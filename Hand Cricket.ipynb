{
 "cells": [
  {
   "cell_type": "markdown",
   "id": "a4ea0935",
   "metadata": {},
   "source": [
    "## Hand Cricket"
   ]
  },
  {
   "cell_type": "code",
   "execution_count": 4,
   "id": "d14fd7ec-d3d7-46eb-a101-1c8c4ff51ae4",
   "metadata": {},
   "outputs": [
    {
     "name": "stdin",
     "output_type": "stream",
     "text": [
      "Enter your name:  jibin\n"
     ]
    },
    {
     "name": "stdout",
     "output_type": "stream",
     "text": [
      "__________________ jibin 's batting__________________\n"
     ]
    },
    {
     "name": "stdin",
     "output_type": "stream",
     "text": [
      "Enter your choice (1-6):  4\n"
     ]
    },
    {
     "name": "stdout",
     "output_type": "stream",
     "text": [
      "Player 1 (Computer) chose: 6\n",
      "jibin chose: 4\n",
      "jibin's score: 4\n"
     ]
    },
    {
     "name": "stdin",
     "output_type": "stream",
     "text": [
      "Enter your choice (1-6):  6\n"
     ]
    },
    {
     "name": "stdout",
     "output_type": "stream",
     "text": [
      "Player 1 (Computer) chose: 1\n",
      "jibin chose: 6\n",
      "jibin's score: 10\n"
     ]
    },
    {
     "name": "stdin",
     "output_type": "stream",
     "text": [
      "Enter your choice (1-6):  3\n"
     ]
    },
    {
     "name": "stdout",
     "output_type": "stream",
     "text": [
      "Player 1 (Computer) chose: 3\n",
      "jibin chose: 3\n",
      "_________________________ jibin is out!_________________________\n",
      "jibin's score: 10\n",
      "__________________________________________________________________\n",
      " \n",
      " \n",
      " \n",
      "_______________computer's batting_______________\n"
     ]
    },
    {
     "name": "stdin",
     "output_type": "stream",
     "text": [
      "Enter your choice (1-6):  2\n"
     ]
    },
    {
     "name": "stdout",
     "output_type": "stream",
     "text": [
      "Player 1 (Computer) chose: 4\n",
      "jibin chose: 2\n",
      "Computer's score: 4\n"
     ]
    },
    {
     "name": "stdin",
     "output_type": "stream",
     "text": [
      "Enter your choice (1-6):  5\n"
     ]
    },
    {
     "name": "stdout",
     "output_type": "stream",
     "text": [
      "Player 1 (Computer) chose: 2\n",
      "jibin chose: 5\n",
      "Computer's score: 6\n"
     ]
    },
    {
     "name": "stdin",
     "output_type": "stream",
     "text": [
      "Enter your choice (1-6):  5\n"
     ]
    },
    {
     "name": "stdout",
     "output_type": "stream",
     "text": [
      "Player 1 (Computer) chose: 6\n",
      "jibin chose: 5\n",
      "Computer's score: 12\n",
      "____________________Computer wins!____________________\n"
     ]
    }
   ],
   "source": [
    "import random\n",
    "\n",
    "name = input(\"Enter your name: \")\n",
    "print('__________________', name, \"'s batting__________________\")\n",
    "\n",
    "# Computer randomly chooses a number between 1 and 6\n",
    "def player1_choice():\n",
    "    return random.choice(range(1, 7))\n",
    "\n",
    "# Player inputs a number between 1 and 6\n",
    "def player2_choice():\n",
    "    r = [1, 2, 3, 4, 5, 6]\n",
    "    while True:\n",
    "        try:\n",
    "            choice = int(input(\"Enter your choice (1-6): \"))\n",
    "            if choice in r:\n",
    "                return choice\n",
    "            else:\n",
    "                print(\"Invalid input. Choose a number between 1 and 6.\")\n",
    "        except ValueError:\n",
    "            print(\"Invalid input. Please enter a number.\")\n",
    "\n",
    "# Player batting, Computer bowling\n",
    "def play_hand_cricket():\n",
    "    player2_runs = 0    \n",
    "    while True:\n",
    "        player1 = player1_choice()\n",
    "        player2 = player2_choice()\n",
    "\n",
    "        print(f\"Player 1 (Computer) chose: {player1}\")\n",
    "        print(f\"{name} chose: {player2}\")\n",
    "\n",
    "        if player1 == player2:\n",
    "            print('_________________________', name, \"is out!_________________________\")\n",
    "            print(f\"{name}'s score: {player2_runs}\")\n",
    "            print('__________________________________________________________________')\n",
    "            print(' ')\n",
    "            print(' ')\n",
    "            print(' ')\n",
    "            print(\"_______________computer's batting_______________\")\n",
    "            return player2_runs\n",
    "        else:\n",
    "            player2_runs += player2\n",
    "            print(f\"{name}'s score: {player2_runs}\")\n",
    "\n",
    "# Player bowls, Computer bats\n",
    "def player1_batting(player2_score):\n",
    "    player1_runs = 0\n",
    "    while True:\n",
    "        player1 = player1_choice()\n",
    "        player2 = player2_choice()\n",
    "\n",
    "        print(f\"Player 1 (Computer) chose: {player1}\")\n",
    "        print(f\"{name} chose: {player2}\")\n",
    "\n",
    "        if player1 == player2:\n",
    "            print(\"_________________________computer is out!_________________________\")\n",
    "            print(f\"Computer's score: {player1_runs}\")\n",
    "            if player1_runs < player2_score:\n",
    "                print(f\"____________________{name} wins!____________________\")\n",
    "            elif player1_runs > player2_score:\n",
    "                print(\"____________________Computer wins!____________________\")\n",
    "            else:\n",
    "                print(\"____________________It's a tie!____________________\")\n",
    "            break\n",
    "        else:\n",
    "            player1_runs += player1\n",
    "            print(f\"Computer's score: {player1_runs}\")\n",
    "\n",
    "            if player1_runs > player2_score:\n",
    "                print(\"____________________Computer wins!____________________\")\n",
    "                break\n",
    "\n",
    "player2_score = play_hand_cricket()\n",
    "player1_batting(player2_score)\n"
   ]
  },
  {
   "cell_type": "code",
   "execution_count": null,
   "id": "6441034d",
   "metadata": {},
   "outputs": [],
   "source": []
  }
 ],
 "metadata": {
  "celltoolbar": "Raw Cell Format",
  "kernelspec": {
   "display_name": "Python 3 (ipykernel)",
   "language": "python",
   "name": "python3"
  },
  "language_info": {
   "codemirror_mode": {
    "name": "ipython",
    "version": 3
   },
   "file_extension": ".py",
   "mimetype": "text/x-python",
   "name": "python",
   "nbconvert_exporter": "python",
   "pygments_lexer": "ipython3",
   "version": "3.11.7"
  }
 },
 "nbformat": 4,
 "nbformat_minor": 5
}
