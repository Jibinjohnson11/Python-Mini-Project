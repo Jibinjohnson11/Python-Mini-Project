{
 "cells": [
  {
   "cell_type": "code",
   "execution_count": 2,
   "id": "738a936f-4414-4d15-b065-1a701c4a3067",
   "metadata": {},
   "outputs": [
    {
     "name": "stdout",
     "output_type": "stream",
     "text": [
      "TIC TAC TOE\n"
     ]
    },
    {
     "name": "stdin",
     "output_type": "stream",
     "text": [
      "Enter player 1 name:  jibin\n",
      "Enter player 2 name:  dybala\n"
     ]
    },
    {
     "name": "stdout",
     "output_type": "stream",
     "text": [
      "   |   |   \n",
      "------------\n",
      "   |   |   \n",
      "------------\n",
      "   |   |   \n"
     ]
    },
    {
     "name": "stdin",
     "output_type": "stream",
     "text": [
      "dybala's turn. Enter a number 1 to 9:  1\n"
     ]
    },
    {
     "name": "stdout",
     "output_type": "stream",
     "text": [
      "   |   |   \n",
      "------------\n",
      "   |   |   \n",
      "------------\n",
      " o |   |   \n"
     ]
    },
    {
     "name": "stdin",
     "output_type": "stream",
     "text": [
      "jibin's turn. Enter a number 1 to 9:  2\n"
     ]
    },
    {
     "name": "stdout",
     "output_type": "stream",
     "text": [
      "   |   |   \n",
      "------------\n",
      "   |   |   \n",
      "------------\n",
      " o | x |   \n"
     ]
    },
    {
     "name": "stdin",
     "output_type": "stream",
     "text": [
      "dybala's turn. Enter a number 1 to 9:  4\n"
     ]
    },
    {
     "name": "stdout",
     "output_type": "stream",
     "text": [
      "   |   |   \n",
      "------------\n",
      " o |   |   \n",
      "------------\n",
      " o | x |   \n"
     ]
    },
    {
     "name": "stdin",
     "output_type": "stream",
     "text": [
      "jibin's turn. Enter a number 1 to 9:  6\n"
     ]
    },
    {
     "name": "stdout",
     "output_type": "stream",
     "text": [
      "   |   |   \n",
      "------------\n",
      " o |   | x \n",
      "------------\n",
      " o | x |   \n"
     ]
    },
    {
     "name": "stdin",
     "output_type": "stream",
     "text": [
      "dybala's turn. Enter a number 1 to 9:  7\n"
     ]
    },
    {
     "name": "stdout",
     "output_type": "stream",
     "text": [
      " o |   |   \n",
      "------------\n",
      " o |   | x \n",
      "------------\n",
      " o | x |   \n",
      "dybala wins!\n"
     ]
    }
   ],
   "source": [
    "print('TIC TAC TOE')\n",
    "\n",
    "player1 = input('Enter player 1 name: ')\n",
    "player2 = input('Enter player 2 name: ')\n",
    "\n",
    "import random\n",
    "x = [player1, player2]\n",
    "k = random.choice(x)  # Randomly select who starts first\n",
    "\n",
    "xo = {player1: 'x', player2: 'o'}\n",
    "\n",
    "# Initialize the board\n",
    "b = {\n",
    "    7: ' ', 8: ' ', 9: ' ',\n",
    "    4: ' ', 5: ' ', 6: ' ',\n",
    "    1: ' ', 2: ' ', 3: ' '\n",
    "}\n",
    "\n",
    "def board(b):\n",
    "    print(f' {b[7]} | {b[8]} | {b[9]} ')\n",
    "    print('------------')\n",
    "    print(f' {b[4]} | {b[5]} | {b[6]} ')\n",
    "    print('------------')\n",
    "    print(f' {b[1]} | {b[2]} | {b[3]} ')\n",
    "\n",
    "def num():\n",
    "    global s, game\n",
    "    while game:  # Run the loop while the game is ongoing\n",
    "        try:\n",
    "            s = int(input(f\"{k}'s turn. Enter a number 1 to 9: \"))\n",
    "            if s in b and b[s] == ' ':\n",
    "                xochange()\n",
    "                board(b)\n",
    "                winner(b)\n",
    "                if game:\n",
    "                    playerchange()\n",
    "            else:\n",
    "                print(\"Position already taken or invalid, try again.\")\n",
    "        except ValueError:\n",
    "            print(\"Invalid input, enter a number between 1 and 9.\")\n",
    "\n",
    "def xochange():\n",
    "    b[s] = xo[k]\n",
    "\n",
    "def playerchange():\n",
    "    global k\n",
    "    k = player2 if k == player1 else player1\n",
    "\n",
    "def winner(b):\n",
    "    global game\n",
    "    win_conditions = [\n",
    "        (7, 8, 9), (4, 5, 6), (1, 2, 3), \n",
    "        (7, 4, 1), (8, 5, 2), (9, 6, 3), \n",
    "        (7, 5, 3), (9, 5, 1)              \n",
    "    ]\n",
    "    \n",
    "    for combo in win_conditions:\n",
    "        if b[combo[0]] == b[combo[1]] == b[combo[2]] != ' ':\n",
    "            print(f\"{k} wins!\")\n",
    "            game = False\n",
    "            return\n",
    "\n",
    "    if ' ' not in b.values():\n",
    "        print(\"It's a draw!\")\n",
    "        game = False\n",
    "\n",
    "\n",
    "game = True\n",
    "board(b)\n",
    "num()\n"
   ]
  },
  {
   "cell_type": "code",
   "execution_count": null,
   "id": "b0254ed1-49df-4864-9f08-c4137c997195",
   "metadata": {},
   "outputs": [],
   "source": []
  }
 ],
 "metadata": {
  "kernelspec": {
   "display_name": "Python 3 (ipykernel)",
   "language": "python",
   "name": "python3"
  },
  "language_info": {
   "codemirror_mode": {
    "name": "ipython",
    "version": 3
   },
   "file_extension": ".py",
   "mimetype": "text/x-python",
   "name": "python",
   "nbconvert_exporter": "python",
   "pygments_lexer": "ipython3",
   "version": "3.11.7"
  }
 },
 "nbformat": 4,
 "nbformat_minor": 5
}
